{
 "cells": [
  {
   "cell_type": "code",
   "execution_count": 49,
   "metadata": {},
   "outputs": [
    {
     "ename": "SyntaxError",
     "evalue": "invalid syntax (<ipython-input-49-616a55e18246>, line 41)",
     "output_type": "error",
     "traceback": [
      "\u001b[0;36m  File \u001b[0;32m\"<ipython-input-49-616a55e18246>\"\u001b[0;36m, line \u001b[0;32m41\u001b[0m\n\u001b[0;31m    model.add(Dense(1))\u001b[0m\n\u001b[0m        ^\u001b[0m\n\u001b[0;31mSyntaxError\u001b[0m\u001b[0;31m:\u001b[0m invalid syntax\n"
     ]
    }
   ],
   "source": [
    "from keras.models import Sequential\n",
    "from keras.layers import Dense, Flatten\n",
    "import imageio as imgio\n",
    "import numpy as np\n",
    "import cv2\n",
    "import csv\n",
    "\n",
    "def read_data(img_path, driving_data): #this part was borrowed from the Udacity's prep video on this lab\n",
    "    lines = []\n",
    "    with open(driving_data) as csvfile:\n",
    "        reader = csv.reader(csvfile)\n",
    "        for line in reader:\n",
    "            lines.append(line)\n",
    "    images = []\n",
    "    measurements = []\n",
    "    firstline = True\n",
    "    for line in lines:\n",
    "        if firstline:\n",
    "            firstline = False\n",
    "            continue\n",
    "        # Append the images for the left, center and right cameras to an input data list. Append measurements to a label list\n",
    "        source_path = line[0]\n",
    "        #source_path_left = line[1]\n",
    "        #source_path_right = line[2]\n",
    "        filename = source_path.split('/')[-1]\n",
    "        #filename_left = source_path_left.split('/')[-1]\n",
    "        #filename_right = source_path_right.split('/')[-1]\n",
    "        current_path = '../sample_data/IMG/' + filename\n",
    "        image = imgio.imread(current_path)\n",
    "        images.append(image)\n",
    "        measurement = float(line[3])\n",
    "        measurements.append(measurement)\n",
    "    return images, measurements\n",
    "\n",
    "# Read the data\n",
    "images, measurements = read_data('../sample_data/IMG/', '../sample_data/driving_log.csv')        \n",
    "\n",
    "\n",
    "X_train = np.array(images)\n",
    "y_train = np.array(measurements)\n",
    "# Create the model\n",
    "model = Sequential()\n",
    "model.add(Flatten(input_shape=(160,320,3)))\n",
    "model.add(Dense(1))\n",
    "\n",
    "model.compile(loss='mse', optimizer='adam')\n",
    "model.fit(X_train, y_train, validation_split=0.2, shuffle=True, nb_epochs=7)\n",
    "model.save('model.h5')\n",
    "#model.add(Lambda(lambda x: cv2.cvtColor(x, cv2.COLOR_BGR2YUV), input_shape=(160,320,3)))\n",
    "#model.add(Lambda(lambda x: (x / 255.0) - 0.5, input_shape=(160,320,3)))\n"
   ]
  },
  {
   "cell_type": "code",
   "execution_count": null,
   "metadata": {},
   "outputs": [],
   "source": []
  },
  {
   "cell_type": "code",
   "execution_count": null,
   "metadata": {},
   "outputs": [],
   "source": []
  }
 ],
 "metadata": {
  "kernelspec": {
   "display_name": "Python 3",
   "language": "python",
   "name": "python3"
  },
  "language_info": {
   "codemirror_mode": {
    "name": "ipython",
    "version": 3
   },
   "file_extension": ".py",
   "mimetype": "text/x-python",
   "name": "python",
   "nbconvert_exporter": "python",
   "pygments_lexer": "ipython3",
   "version": "3.7.3"
  }
 },
 "nbformat": 4,
 "nbformat_minor": 2
}
